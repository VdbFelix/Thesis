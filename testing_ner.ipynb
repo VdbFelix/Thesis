import spacy
from spacy import displacy

def load_text(file):
    with open(file, "r", encoding="utf-8") as f:
        data = f.read()
    return data

text_trial = load_text("/Users/felixvdb/Desktop/DigHum/Thesis/Foxe_text_images/johnfoxe_transcriptions/TXT/1583/1583_00_0010.txt")

nlp = spacy.load("/Users/felixvdb/Desktop/DigHum/Thesis/Foxe_Thesis_Codes/Training Dataset/ner_extended_model/foxe_cpu_model_extended/output/model-last")

doc1 = nlp(text_trial)

displacy.render(doc, style="ent", jupyter=True)
